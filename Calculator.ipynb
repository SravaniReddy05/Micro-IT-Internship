{
 "cells": [
  {
   "cell_type": "code",
   "execution_count": null,
   "id": "1c45bdc3-4dca-4f63-8d4f-bcf007c3e64a",
   "metadata": {},
   "outputs": [],
   "source": [
    "import tkinter as tk\n",
    "\n",
    "# Create the main application window\n",
    "root = tk.Tk()\n",
    "root.title(\"Simple Calculator\")\n",
    "root.geometry(\"300x400\")\n",
    "\n",
    "# Entry widget to display input and results\n",
    "entry = tk.Entry(root, width=16, font=('Arial', 24), bd=5, relief=tk.RIDGE, justify='right')\n",
    "entry.grid(row=0, column=0, columnspan=4, pady=20)\n",
    "\n",
    "# Function to handle button clicks\n",
    "def button_click(value):\n",
    "    entry.insert(tk.END, value)\n",
    "\n",
    "# Function to clear the entry field\n",
    "def button_clear():\n",
    "    entry.delete(0, tk.END)\n",
    "\n",
    "# Function to evaluate the expression\n",
    "def button_equal():\n",
    "    try:\n",
    "        result = eval(entry.get())  # Evaluate the expression\n",
    "        entry.delete(0, tk.END)\n",
    "        entry.insert(0, str(result))\n",
    "    except Exception as e:\n",
    "        entry.delete(0, tk.END)\n",
    "        entry.insert(0, \"Error\")\n",
    "\n",
    "# Button layout\n",
    "buttons = [\n",
    "    ('7', '8', '9', '/'),\n",
    "    ('4', '5', '6', '*'),\n",
    "    ('1', '2', '3', '-'),\n",
    "    ('0', '.', '=', '+')\n",
    "]\n",
    "\n",
    "# Create and place buttons in grid\n",
    "for i, row in enumerate(buttons):\n",
    "    for j, btn_text in enumerate(row):\n",
    "        if btn_text == '=':\n",
    "            btn = tk.Button(root, text=btn_text, width=5, height=2, font=('Arial', 18),\n",
    "                            command=button_equal, bg='#4CAF50', fg='white')\n",
    "        else:\n",
    "            btn = tk.Button(root, text=btn_text, width=5, height=2, font=('Arial', 18),\n",
    "                            command=lambda value=btn_text: button_click(value))\n",
    "        btn.grid(row=i+1, column=j, padx=5, pady=5)\n",
    "\n",
    "# Clear button at the bottom\n",
    "clear_btn = tk.Button(root, text='C', width=22, height=2, font=('Arial', 18),\n",
    "                      command=button_clear, bg='red', fg='white')\n",
    "clear_btn.grid(row=5, column=0, columnspan=4, pady=10)\n",
    "\n",
    "# Run the main event loop\n",
    "root.mainloop()\n"
   ]
  },
  {
   "cell_type": "code",
   "execution_count": null,
   "id": "4fe29089-74fd-422a-9ea2-9cd6a992dbc0",
   "metadata": {},
   "outputs": [],
   "source": []
  }
 ],
 "metadata": {
  "kernelspec": {
   "display_name": "Python 3 (ipykernel)",
   "language": "python",
   "name": "python3"
  },
  "language_info": {
   "codemirror_mode": {
    "name": "ipython",
    "version": 3
   },
   "file_extension": ".py",
   "mimetype": "text/x-python",
   "name": "python",
   "nbconvert_exporter": "python",
   "pygments_lexer": "ipython3",
   "version": "3.13.2"
  }
 },
 "nbformat": 4,
 "nbformat_minor": 5
}
